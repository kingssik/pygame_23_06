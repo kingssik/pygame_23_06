{
 "cells": [
  {
   "cell_type": "code",
   "execution_count": 5,
   "id": "0752083c",
   "metadata": {},
   "outputs": [
    {
     "name": "stdout",
     "output_type": "stream",
     "text": [
      "pygame 2.4.0 (SDL 2.26.4, Python 3.10.9)\n",
      "Hello from the pygame community. https://www.pygame.org/contribute.html\n"
     ]
    }
   ],
   "source": [
    "import pygame\n",
    "\n",
    "# 1. 초기화 -> 변수선언\n",
    "# 2. 게임화면 설정 -> 크기 고정\n",
    "# 3. 게임 화면 내 설정 -> 변수\n",
    "# 4. 메인 이벤트\n",
    "#  - 1. FPS(Frame Per Second) 설정\n",
    "#  - 2. 입력(키보드, 마우스) 감지\n",
    "#  - 3. 변화(입력 / 시간에 따른 변화)\n",
    "#  - 4. 전사작업(그리기)\n",
    "#  - 5. 업데이트\n",
    "# 5. 종료"
   ]
  }
 ],
 "metadata": {
  "kernelspec": {
   "display_name": "Python 3 (ipykernel)",
   "language": "python",
   "name": "python3"
  },
  "language_info": {
   "codemirror_mode": {
    "name": "ipython",
    "version": 3
   },
   "file_extension": ".py",
   "mimetype": "text/x-python",
   "name": "python",
   "nbconvert_exporter": "python",
   "pygments_lexer": "ipython3",
   "version": "3.10.9"
  }
 },
 "nbformat": 4,
 "nbformat_minor": 5
}
